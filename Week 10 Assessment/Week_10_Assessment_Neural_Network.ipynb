{
  "nbformat": 4,
  "nbformat_minor": 0,
  "metadata": {
    "colab": {
      "provenance": [],
      "authorship_tag": "ABX9TyNvAq1yhTvt2IWqyBBNNmXu",
      "include_colab_link": true
    },
    "kernelspec": {
      "name": "python3",
      "display_name": "Python 3"
    },
    "language_info": {
      "name": "python"
    }
  },
  "cells": [
    {
      "cell_type": "markdown",
      "metadata": {
        "id": "view-in-github",
        "colab_type": "text"
      },
      "source": [
        "<a href=\"https://colab.research.google.com/github/Ernesto16/AI-Saturdays/blob/master/Week%2010%20Assessment/Week_10_Assessment_Neural_Network.ipynb\" target=\"_parent\"><img src=\"https://colab.research.google.com/assets/colab-badge.svg\" alt=\"Open In Colab\"/></a>"
      ]
    },
    {
      "cell_type": "markdown",
      "source": [
        "## 🧠 Notes / Explanation\n",
        "\n",
        "- **Dataset**: Breast Cancer Wisconsin (binary classification: malignant vs benign).  \n",
        "- **Input layer**: Handled by `Input(shape=(n_features,))`.  \n",
        "- **Hidden layers**: Two Dense layers with ReLU activation (64 and 32 units).  \n",
        "- **Output layer**: Single unit with Sigmoid activation (for binary classification).  \n",
        "- **Loss function**: `binary_crossentropy`.  \n",
        "- **Optimizer**: Adam.  \n",
        "- **Metrics**: Accuracy, Precision, Recall. Also report F1 score in final results.  \n",
        "- **Splits**: Train/Validation/Test = 60% / 20% / 20%.  \n",
        "- **Training**: 50 epochs, batch size 32 (adjust if under/overfitting observed).  \n",
        "\n",
        "### 📊 Plots & Evaluation\n",
        "Include:\n",
        "- Training/Validation **loss and accuracy curves**\n",
        "- **Confusion matrix**\n",
        "- **Classification report** (precision, recall, f1-score)\n",
        "\n"
      ],
      "metadata": {
        "id": "Dp-94q1t-S27"
      }
    },
    {
      "cell_type": "code",
      "execution_count": 11,
      "metadata": {
        "id": "lu5p5CPfyh9C"
      },
      "outputs": [],
      "source": [
        "import numpy as np\n",
        "import pandas as pd\n",
        "import matplotlib.pyplot as plt\n",
        "from sklearn.datasets import load_breast_cancer\n",
        "from sklearn.model_selection import train_test_split\n",
        "from sklearn.preprocessing import StandardScaler\n",
        "from sklearn.metrics import classification_report, confusion_matrix, accuracy_score, precision_score, recall_score, f1_score\n",
        "\n",
        "\n",
        "import tensorflow as tf\n",
        "from tensorflow import keras\n",
        "from tensorflow.keras import layers"
      ]
    },
    {
      "cell_type": "code",
      "source": [
        "# Reproducibility\n",
        "SEED = 42\n",
        "np.random.seed(SEED)\n",
        "tf.random.set_seed(SEED)\n",
        "\n",
        "\n",
        "# 2) Load dataset\n",
        "data = load_breast_cancer()\n",
        "X = data.data\n",
        "y = data.target\n",
        "feature_names = data.feature_names\n",
        "\n",
        "\n",
        "print('Dataset shape:', X.shape)\n",
        "print('Labels distribution:', np.bincount(y))\n",
        "\n",
        "\n",
        "# 3) Train / Validation / Test split (60 / 20 / 20)\n",
        "X_train_val, X_test, y_train_val, y_test = train_test_split(X, y, test_size=0.2, random_state=SEED, stratify=y)\n",
        "X_train, X_val, y_train, y_val = train_test_split(X_train_val, y_train_val, test_size=0.25, random_state=SEED, stratify=y_train_val)\n",
        "# note: 0.25 x 0.8 = 0.20 -> results in 60/20/20\n",
        "\n",
        "print('Train:', X_train.shape, 'Val:', X_val.shape, 'Test:', X_test.shape)\n",
        "\n",
        "\n",
        "# 3.1) Standardize features\n",
        "scaler = StandardScaler()\n",
        "X_train = scaler.fit_transform(X_train)\n",
        "X_val = scaler.transform(X_val)\n",
        "X_test = scaler.transform(X_test)"
      ],
      "metadata": {
        "colab": {
          "base_uri": "https://localhost:8080/"
        },
        "id": "SeksM1sn18BL",
        "outputId": "8433c870-62e9-4969-e65f-799534822099"
      },
      "execution_count": 12,
      "outputs": [
        {
          "output_type": "stream",
          "name": "stdout",
          "text": [
            "Dataset shape: (569, 30)\n",
            "Labels distribution: [212 357]\n",
            "Train: (341, 30) Val: (114, 30) Test: (114, 30)\n"
          ]
        }
      ]
    },
    {
      "cell_type": "code",
      "source": [
        "# 4) Build model\n",
        "input_shape = X_train.shape[1]\n",
        "\n",
        "\n",
        "model = keras.Sequential([\n",
        "layers.Input(shape=(input_shape,)),\n",
        "layers.Dense(64, activation='relu', name='dense_1'),\n",
        "layers.Dense(32, activation='relu', name='dense_2'),\n",
        "layers.Dense(1, activation='sigmoid', name='output')\n",
        "])\n",
        "\n",
        "\n",
        "model.summary()"
      ],
      "metadata": {
        "colab": {
          "base_uri": "https://localhost:8080/",
          "height": 238
        },
        "id": "5C1_Th7R2Ly1",
        "outputId": "00ab8b44-7fda-4d3a-d003-3247eabfe890"
      },
      "execution_count": 13,
      "outputs": [
        {
          "output_type": "display_data",
          "data": {
            "text/plain": [
              "\u001b[1mModel: \"sequential_1\"\u001b[0m\n"
            ],
            "text/html": [
              "<pre style=\"white-space:pre;overflow-x:auto;line-height:normal;font-family:Menlo,'DejaVu Sans Mono',consolas,'Courier New',monospace\"><span style=\"font-weight: bold\">Model: \"sequential_1\"</span>\n",
              "</pre>\n"
            ]
          },
          "metadata": {}
        },
        {
          "output_type": "display_data",
          "data": {
            "text/plain": [
              "┏━━━━━━━━━━━━━━━━━━━━━━━━━━━━━━━━━┳━━━━━━━━━━━━━━━━━━━━━━━━┳━━━━━━━━━━━━━━━┓\n",
              "┃\u001b[1m \u001b[0m\u001b[1mLayer (type)                   \u001b[0m\u001b[1m \u001b[0m┃\u001b[1m \u001b[0m\u001b[1mOutput Shape          \u001b[0m\u001b[1m \u001b[0m┃\u001b[1m \u001b[0m\u001b[1m      Param #\u001b[0m\u001b[1m \u001b[0m┃\n",
              "┡━━━━━━━━━━━━━━━━━━━━━━━━━━━━━━━━━╇━━━━━━━━━━━━━━━━━━━━━━━━╇━━━━━━━━━━━━━━━┩\n",
              "│ dense_1 (\u001b[38;5;33mDense\u001b[0m)                 │ (\u001b[38;5;45mNone\u001b[0m, \u001b[38;5;34m64\u001b[0m)             │         \u001b[38;5;34m1,984\u001b[0m │\n",
              "├─────────────────────────────────┼────────────────────────┼───────────────┤\n",
              "│ dense_2 (\u001b[38;5;33mDense\u001b[0m)                 │ (\u001b[38;5;45mNone\u001b[0m, \u001b[38;5;34m32\u001b[0m)             │         \u001b[38;5;34m2,080\u001b[0m │\n",
              "├─────────────────────────────────┼────────────────────────┼───────────────┤\n",
              "│ output (\u001b[38;5;33mDense\u001b[0m)                  │ (\u001b[38;5;45mNone\u001b[0m, \u001b[38;5;34m1\u001b[0m)              │            \u001b[38;5;34m33\u001b[0m │\n",
              "└─────────────────────────────────┴────────────────────────┴───────────────┘\n"
            ],
            "text/html": [
              "<pre style=\"white-space:pre;overflow-x:auto;line-height:normal;font-family:Menlo,'DejaVu Sans Mono',consolas,'Courier New',monospace\">┏━━━━━━━━━━━━━━━━━━━━━━━━━━━━━━━━━┳━━━━━━━━━━━━━━━━━━━━━━━━┳━━━━━━━━━━━━━━━┓\n",
              "┃<span style=\"font-weight: bold\"> Layer (type)                    </span>┃<span style=\"font-weight: bold\"> Output Shape           </span>┃<span style=\"font-weight: bold\">       Param # </span>┃\n",
              "┡━━━━━━━━━━━━━━━━━━━━━━━━━━━━━━━━━╇━━━━━━━━━━━━━━━━━━━━━━━━╇━━━━━━━━━━━━━━━┩\n",
              "│ dense_1 (<span style=\"color: #0087ff; text-decoration-color: #0087ff\">Dense</span>)                 │ (<span style=\"color: #00d7ff; text-decoration-color: #00d7ff\">None</span>, <span style=\"color: #00af00; text-decoration-color: #00af00\">64</span>)             │         <span style=\"color: #00af00; text-decoration-color: #00af00\">1,984</span> │\n",
              "├─────────────────────────────────┼────────────────────────┼───────────────┤\n",
              "│ dense_2 (<span style=\"color: #0087ff; text-decoration-color: #0087ff\">Dense</span>)                 │ (<span style=\"color: #00d7ff; text-decoration-color: #00d7ff\">None</span>, <span style=\"color: #00af00; text-decoration-color: #00af00\">32</span>)             │         <span style=\"color: #00af00; text-decoration-color: #00af00\">2,080</span> │\n",
              "├─────────────────────────────────┼────────────────────────┼───────────────┤\n",
              "│ output (<span style=\"color: #0087ff; text-decoration-color: #0087ff\">Dense</span>)                  │ (<span style=\"color: #00d7ff; text-decoration-color: #00d7ff\">None</span>, <span style=\"color: #00af00; text-decoration-color: #00af00\">1</span>)              │            <span style=\"color: #00af00; text-decoration-color: #00af00\">33</span> │\n",
              "└─────────────────────────────────┴────────────────────────┴───────────────┘\n",
              "</pre>\n"
            ]
          },
          "metadata": {}
        },
        {
          "output_type": "display_data",
          "data": {
            "text/plain": [
              "\u001b[1m Total params: \u001b[0m\u001b[38;5;34m4,097\u001b[0m (16.00 KB)\n"
            ],
            "text/html": [
              "<pre style=\"white-space:pre;overflow-x:auto;line-height:normal;font-family:Menlo,'DejaVu Sans Mono',consolas,'Courier New',monospace\"><span style=\"font-weight: bold\"> Total params: </span><span style=\"color: #00af00; text-decoration-color: #00af00\">4,097</span> (16.00 KB)\n",
              "</pre>\n"
            ]
          },
          "metadata": {}
        },
        {
          "output_type": "display_data",
          "data": {
            "text/plain": [
              "\u001b[1m Trainable params: \u001b[0m\u001b[38;5;34m4,097\u001b[0m (16.00 KB)\n"
            ],
            "text/html": [
              "<pre style=\"white-space:pre;overflow-x:auto;line-height:normal;font-family:Menlo,'DejaVu Sans Mono',consolas,'Courier New',monospace\"><span style=\"font-weight: bold\"> Trainable params: </span><span style=\"color: #00af00; text-decoration-color: #00af00\">4,097</span> (16.00 KB)\n",
              "</pre>\n"
            ]
          },
          "metadata": {}
        },
        {
          "output_type": "display_data",
          "data": {
            "text/plain": [
              "\u001b[1m Non-trainable params: \u001b[0m\u001b[38;5;34m0\u001b[0m (0.00 B)\n"
            ],
            "text/html": [
              "<pre style=\"white-space:pre;overflow-x:auto;line-height:normal;font-family:Menlo,'DejaVu Sans Mono',consolas,'Courier New',monospace\"><span style=\"font-weight: bold\"> Non-trainable params: </span><span style=\"color: #00af00; text-decoration-color: #00af00\">0</span> (0.00 B)\n",
              "</pre>\n"
            ]
          },
          "metadata": {}
        }
      ]
    },
    {
      "cell_type": "code",
      "source": [
        "# 5) Compile model\n",
        "model.compile(\n",
        "optimizer=keras.optimizers.Adam(),\n",
        "loss=keras.losses.BinaryCrossentropy(),\n",
        "metrics=['accuracy', keras.metrics.Precision(name='precision'), keras.metrics.Recall(name='recall')]\n",
        ")\n",
        "\n",
        "\n",
        "# 6) Train\n",
        "EPOCHS = 50\n",
        "BATCH_SIZE = 32\n",
        "\n",
        "\n",
        "history = model.fit(\n",
        "X_train, y_train,\n",
        "validation_data=(X_val, y_val),\n",
        "epochs=EPOCHS,\n",
        "batch_size=BATCH_SIZE,\n",
        "verbose=2\n",
        ")"
      ],
      "metadata": {
        "colab": {
          "base_uri": "https://localhost:8080/"
        },
        "id": "I78et6KH7n5G",
        "outputId": "ebe8916b-c4dc-499e-f895-57c7367de27e"
      },
      "execution_count": 14,
      "outputs": [
        {
          "output_type": "stream",
          "name": "stdout",
          "text": [
            "Epoch 1/50\n",
            "11/11 - 2s - 194ms/step - accuracy: 0.8211 - loss: 0.4993 - precision: 0.8097 - recall: 0.9346 - val_accuracy: 0.9211 - val_loss: 0.3691 - val_precision: 0.9189 - val_recall: 0.9577\n",
            "Epoch 2/50\n",
            "11/11 - 0s - 13ms/step - accuracy: 0.9443 - loss: 0.2969 - precision: 0.9295 - recall: 0.9860 - val_accuracy: 0.9474 - val_loss: 0.2394 - val_precision: 0.9452 - val_recall: 0.9718\n",
            "Epoch 3/50\n",
            "11/11 - 0s - 12ms/step - accuracy: 0.9501 - loss: 0.1969 - precision: 0.9417 - recall: 0.9813 - val_accuracy: 0.9561 - val_loss: 0.1748 - val_precision: 0.9459 - val_recall: 0.9859\n",
            "Epoch 4/50\n",
            "11/11 - 0s - 13ms/step - accuracy: 0.9560 - loss: 0.1458 - precision: 0.9462 - recall: 0.9860 - val_accuracy: 0.9561 - val_loss: 0.1411 - val_precision: 0.9459 - val_recall: 0.9859\n",
            "Epoch 5/50\n",
            "11/11 - 0s - 14ms/step - accuracy: 0.9619 - loss: 0.1174 - precision: 0.9548 - recall: 0.9860 - val_accuracy: 0.9649 - val_loss: 0.1209 - val_precision: 0.9589 - val_recall: 0.9859\n",
            "Epoch 6/50\n",
            "11/11 - 0s - 12ms/step - accuracy: 0.9736 - loss: 0.0987 - precision: 0.9680 - recall: 0.9907 - val_accuracy: 0.9649 - val_loss: 0.1073 - val_precision: 0.9589 - val_recall: 0.9859\n",
            "Epoch 7/50\n",
            "11/11 - 0s - 12ms/step - accuracy: 0.9795 - loss: 0.0855 - precision: 0.9770 - recall: 0.9907 - val_accuracy: 0.9561 - val_loss: 0.0981 - val_precision: 0.9583 - val_recall: 0.9718\n",
            "Epoch 8/50\n",
            "11/11 - 0s - 12ms/step - accuracy: 0.9853 - loss: 0.0756 - precision: 0.9860 - recall: 0.9907 - val_accuracy: 0.9561 - val_loss: 0.0910 - val_precision: 0.9583 - val_recall: 0.9718\n",
            "Epoch 9/50\n",
            "11/11 - 0s - 12ms/step - accuracy: 0.9853 - loss: 0.0682 - precision: 0.9860 - recall: 0.9907 - val_accuracy: 0.9561 - val_loss: 0.0855 - val_precision: 0.9583 - val_recall: 0.9718\n",
            "Epoch 10/50\n",
            "11/11 - 0s - 13ms/step - accuracy: 0.9853 - loss: 0.0623 - precision: 0.9860 - recall: 0.9907 - val_accuracy: 0.9561 - val_loss: 0.0812 - val_precision: 0.9583 - val_recall: 0.9718\n",
            "Epoch 11/50\n",
            "11/11 - 0s - 12ms/step - accuracy: 0.9853 - loss: 0.0573 - precision: 0.9860 - recall: 0.9907 - val_accuracy: 0.9649 - val_loss: 0.0778 - val_precision: 0.9718 - val_recall: 0.9718\n",
            "Epoch 12/50\n",
            "11/11 - 0s - 16ms/step - accuracy: 0.9883 - loss: 0.0529 - precision: 0.9861 - recall: 0.9953 - val_accuracy: 0.9649 - val_loss: 0.0751 - val_precision: 0.9718 - val_recall: 0.9718\n",
            "Epoch 13/50\n",
            "11/11 - 0s - 25ms/step - accuracy: 0.9883 - loss: 0.0490 - precision: 0.9861 - recall: 0.9953 - val_accuracy: 0.9649 - val_loss: 0.0727 - val_precision: 0.9718 - val_recall: 0.9718\n",
            "Epoch 14/50\n",
            "11/11 - 0s - 12ms/step - accuracy: 0.9883 - loss: 0.0455 - precision: 0.9861 - recall: 0.9953 - val_accuracy: 0.9649 - val_loss: 0.0708 - val_precision: 0.9718 - val_recall: 0.9718\n",
            "Epoch 15/50\n",
            "11/11 - 0s - 13ms/step - accuracy: 0.9912 - loss: 0.0422 - precision: 0.9907 - recall: 0.9953 - val_accuracy: 0.9737 - val_loss: 0.0693 - val_precision: 0.9857 - val_recall: 0.9718\n",
            "Epoch 16/50\n",
            "11/11 - 0s - 13ms/step - accuracy: 0.9912 - loss: 0.0391 - precision: 0.9907 - recall: 0.9953 - val_accuracy: 0.9737 - val_loss: 0.0681 - val_precision: 0.9857 - val_recall: 0.9718\n",
            "Epoch 17/50\n",
            "11/11 - 0s - 14ms/step - accuracy: 0.9912 - loss: 0.0363 - precision: 0.9907 - recall: 0.9953 - val_accuracy: 0.9737 - val_loss: 0.0668 - val_precision: 0.9857 - val_recall: 0.9718\n",
            "Epoch 18/50\n",
            "11/11 - 0s - 17ms/step - accuracy: 0.9912 - loss: 0.0338 - precision: 0.9907 - recall: 0.9953 - val_accuracy: 0.9649 - val_loss: 0.0652 - val_precision: 0.9855 - val_recall: 0.9577\n",
            "Epoch 19/50\n",
            "11/11 - 0s - 13ms/step - accuracy: 0.9912 - loss: 0.0316 - precision: 0.9907 - recall: 0.9953 - val_accuracy: 0.9649 - val_loss: 0.0637 - val_precision: 0.9855 - val_recall: 0.9577\n",
            "Epoch 20/50\n",
            "11/11 - 0s - 12ms/step - accuracy: 0.9912 - loss: 0.0296 - precision: 0.9907 - recall: 0.9953 - val_accuracy: 0.9649 - val_loss: 0.0622 - val_precision: 0.9855 - val_recall: 0.9577\n",
            "Epoch 21/50\n",
            "11/11 - 0s - 12ms/step - accuracy: 0.9912 - loss: 0.0277 - precision: 0.9907 - recall: 0.9953 - val_accuracy: 0.9737 - val_loss: 0.0610 - val_precision: 0.9857 - val_recall: 0.9718\n",
            "Epoch 22/50\n",
            "11/11 - 0s - 12ms/step - accuracy: 0.9912 - loss: 0.0260 - precision: 0.9907 - recall: 0.9953 - val_accuracy: 0.9737 - val_loss: 0.0598 - val_precision: 0.9857 - val_recall: 0.9718\n",
            "Epoch 23/50\n",
            "11/11 - 0s - 13ms/step - accuracy: 0.9941 - loss: 0.0244 - precision: 0.9907 - recall: 1.0000 - val_accuracy: 0.9737 - val_loss: 0.0584 - val_precision: 0.9857 - val_recall: 0.9718\n",
            "Epoch 24/50\n",
            "11/11 - 0s - 13ms/step - accuracy: 0.9941 - loss: 0.0230 - precision: 0.9907 - recall: 1.0000 - val_accuracy: 0.9737 - val_loss: 0.0573 - val_precision: 0.9857 - val_recall: 0.9718\n",
            "Epoch 25/50\n",
            "11/11 - 0s - 14ms/step - accuracy: 0.9941 - loss: 0.0215 - precision: 0.9907 - recall: 1.0000 - val_accuracy: 0.9737 - val_loss: 0.0563 - val_precision: 0.9857 - val_recall: 0.9718\n",
            "Epoch 26/50\n",
            "11/11 - 0s - 12ms/step - accuracy: 0.9941 - loss: 0.0202 - precision: 0.9907 - recall: 1.0000 - val_accuracy: 0.9737 - val_loss: 0.0551 - val_precision: 0.9857 - val_recall: 0.9718\n",
            "Epoch 27/50\n",
            "11/11 - 0s - 12ms/step - accuracy: 0.9941 - loss: 0.0190 - precision: 0.9907 - recall: 1.0000 - val_accuracy: 0.9737 - val_loss: 0.0540 - val_precision: 0.9857 - val_recall: 0.9718\n",
            "Epoch 28/50\n",
            "11/11 - 0s - 13ms/step - accuracy: 0.9941 - loss: 0.0179 - precision: 0.9907 - recall: 1.0000 - val_accuracy: 0.9737 - val_loss: 0.0531 - val_precision: 0.9857 - val_recall: 0.9718\n",
            "Epoch 29/50\n",
            "11/11 - 0s - 13ms/step - accuracy: 0.9941 - loss: 0.0167 - precision: 0.9907 - recall: 1.0000 - val_accuracy: 0.9825 - val_loss: 0.0521 - val_precision: 0.9859 - val_recall: 0.9859\n",
            "Epoch 30/50\n",
            "11/11 - 0s - 13ms/step - accuracy: 0.9941 - loss: 0.0157 - precision: 0.9907 - recall: 1.0000 - val_accuracy: 0.9912 - val_loss: 0.0513 - val_precision: 0.9861 - val_recall: 1.0000\n",
            "Epoch 31/50\n",
            "11/11 - 0s - 12ms/step - accuracy: 0.9941 - loss: 0.0148 - precision: 0.9907 - recall: 1.0000 - val_accuracy: 0.9912 - val_loss: 0.0504 - val_precision: 0.9861 - val_recall: 1.0000\n",
            "Epoch 32/50\n",
            "11/11 - 0s - 14ms/step - accuracy: 0.9971 - loss: 0.0139 - precision: 0.9953 - recall: 1.0000 - val_accuracy: 0.9912 - val_loss: 0.0497 - val_precision: 0.9861 - val_recall: 1.0000\n",
            "Epoch 33/50\n",
            "11/11 - 0s - 12ms/step - accuracy: 0.9971 - loss: 0.0130 - precision: 0.9953 - recall: 1.0000 - val_accuracy: 0.9912 - val_loss: 0.0489 - val_precision: 0.9861 - val_recall: 1.0000\n",
            "Epoch 34/50\n",
            "11/11 - 0s - 13ms/step - accuracy: 0.9971 - loss: 0.0122 - precision: 0.9953 - recall: 1.0000 - val_accuracy: 0.9912 - val_loss: 0.0483 - val_precision: 0.9861 - val_recall: 1.0000\n",
            "Epoch 35/50\n",
            "11/11 - 0s - 13ms/step - accuracy: 0.9971 - loss: 0.0114 - precision: 0.9953 - recall: 1.0000 - val_accuracy: 0.9912 - val_loss: 0.0478 - val_precision: 0.9861 - val_recall: 1.0000\n",
            "Epoch 36/50\n",
            "11/11 - 0s - 13ms/step - accuracy: 0.9971 - loss: 0.0108 - precision: 0.9953 - recall: 1.0000 - val_accuracy: 0.9825 - val_loss: 0.0473 - val_precision: 0.9859 - val_recall: 0.9859\n",
            "Epoch 37/50\n",
            "11/11 - 0s - 12ms/step - accuracy: 0.9971 - loss: 0.0101 - precision: 0.9953 - recall: 1.0000 - val_accuracy: 0.9912 - val_loss: 0.0468 - val_precision: 0.9861 - val_recall: 1.0000\n",
            "Epoch 38/50\n",
            "11/11 - 0s - 17ms/step - accuracy: 0.9971 - loss: 0.0095 - precision: 0.9953 - recall: 1.0000 - val_accuracy: 0.9912 - val_loss: 0.0465 - val_precision: 0.9861 - val_recall: 1.0000\n",
            "Epoch 39/50\n",
            "11/11 - 0s - 16ms/step - accuracy: 1.0000 - loss: 0.0089 - precision: 1.0000 - recall: 1.0000 - val_accuracy: 0.9825 - val_loss: 0.0462 - val_precision: 0.9859 - val_recall: 0.9859\n",
            "Epoch 40/50\n",
            "11/11 - 0s - 13ms/step - accuracy: 1.0000 - loss: 0.0084 - precision: 1.0000 - recall: 1.0000 - val_accuracy: 0.9825 - val_loss: 0.0460 - val_precision: 0.9859 - val_recall: 0.9859\n",
            "Epoch 41/50\n",
            "11/11 - 0s - 13ms/step - accuracy: 1.0000 - loss: 0.0079 - precision: 1.0000 - recall: 1.0000 - val_accuracy: 0.9825 - val_loss: 0.0459 - val_precision: 0.9859 - val_recall: 0.9859\n",
            "Epoch 42/50\n",
            "11/11 - 0s - 13ms/step - accuracy: 1.0000 - loss: 0.0074 - precision: 1.0000 - recall: 1.0000 - val_accuracy: 0.9825 - val_loss: 0.0457 - val_precision: 0.9859 - val_recall: 0.9859\n",
            "Epoch 43/50\n",
            "11/11 - 0s - 13ms/step - accuracy: 1.0000 - loss: 0.0070 - precision: 1.0000 - recall: 1.0000 - val_accuracy: 0.9825 - val_loss: 0.0454 - val_precision: 0.9859 - val_recall: 0.9859\n",
            "Epoch 44/50\n",
            "11/11 - 0s - 13ms/step - accuracy: 1.0000 - loss: 0.0066 - precision: 1.0000 - recall: 1.0000 - val_accuracy: 0.9825 - val_loss: 0.0455 - val_precision: 0.9859 - val_recall: 0.9859\n",
            "Epoch 45/50\n",
            "11/11 - 0s - 14ms/step - accuracy: 1.0000 - loss: 0.0062 - precision: 1.0000 - recall: 1.0000 - val_accuracy: 0.9825 - val_loss: 0.0456 - val_precision: 0.9859 - val_recall: 0.9859\n",
            "Epoch 46/50\n",
            "11/11 - 0s - 12ms/step - accuracy: 1.0000 - loss: 0.0059 - precision: 1.0000 - recall: 1.0000 - val_accuracy: 0.9825 - val_loss: 0.0455 - val_precision: 0.9859 - val_recall: 0.9859\n",
            "Epoch 47/50\n",
            "11/11 - 0s - 17ms/step - accuracy: 1.0000 - loss: 0.0056 - precision: 1.0000 - recall: 1.0000 - val_accuracy: 0.9825 - val_loss: 0.0455 - val_precision: 0.9859 - val_recall: 0.9859\n",
            "Epoch 48/50\n",
            "11/11 - 0s - 27ms/step - accuracy: 1.0000 - loss: 0.0053 - precision: 1.0000 - recall: 1.0000 - val_accuracy: 0.9825 - val_loss: 0.0455 - val_precision: 0.9859 - val_recall: 0.9859\n",
            "Epoch 49/50\n",
            "11/11 - 0s - 21ms/step - accuracy: 1.0000 - loss: 0.0050 - precision: 1.0000 - recall: 1.0000 - val_accuracy: 0.9825 - val_loss: 0.0457 - val_precision: 0.9859 - val_recall: 0.9859\n",
            "Epoch 50/50\n",
            "11/11 - 0s - 26ms/step - accuracy: 1.0000 - loss: 0.0047 - precision: 1.0000 - recall: 1.0000 - val_accuracy: 0.9825 - val_loss: 0.0458 - val_precision: 0.9859 - val_recall: 0.9859\n"
          ]
        }
      ]
    },
    {
      "cell_type": "code",
      "source": [
        "# 7) Plot training curves\n",
        "plt.figure(figsize=(12,4))\n",
        "plt.subplot(1,2,1)\n",
        "plt.plot(history.history['loss'], label='train_loss')\n",
        "plt.plot(history.history['val_loss'], label='val_loss')\n",
        "plt.xlabel('Epoch')\n",
        "plt.ylabel('Loss')\n",
        "plt.legend()\n",
        "plt.title('Loss curve')\n",
        "\n",
        "\n",
        "plt.subplot(1,2,2)\n",
        "plt.plot(history.history['accuracy'], label='train_acc')\n",
        "plt.plot(history.history['val_accuracy'], label='val_acc')\n",
        "plt.xlabel('Epoch')\n",
        "plt.ylabel('Accuracy')\n",
        "plt.legend()\n",
        "plt.title('Accuracy curve')\n",
        "\n",
        "\n",
        "plt.tight_layout()\n",
        "plt.show()"
      ],
      "metadata": {
        "colab": {
          "base_uri": "https://localhost:8080/",
          "height": 315
        },
        "id": "C0Q0vKPy7tOm",
        "outputId": "0d4dd2a4-c59a-404b-8a5f-ed091e60b52e"
      },
      "execution_count": 15,
      "outputs": [
        {
          "output_type": "display_data",
          "data": {
            "text/plain": [
              "<Figure size 1200x400 with 2 Axes>"
            ],
            "image/png": "[encoded data removed]"
          },
          "metadata": {}
        }
      ]
    },
    {
      "cell_type": "code",
      "source": [
        "# 8) Evaluate on test set\n",
        "test_results = model.evaluate(X_test, y_test, verbose=0)\n",
        "print('\\nTest results (loss, accuracy, precision, recall):', test_results)\n",
        "\n",
        "\n",
        "# 8.1) Detailed metrics\n",
        "y_pred_prob = model.predict(X_test).ravel()\n",
        "y_pred = (y_pred_prob >= 0.5).astype(int)\n",
        "\n",
        "\n",
        "print('\\nConfusion matrix:\\n', confusion_matrix(y_test, y_pred))\n",
        "print('\\nClassification report:\\n', classification_report(y_test, y_pred, digits=4))\n",
        "\n",
        "\n",
        "acc = accuracy_score(y_test, y_pred)\n",
        "prec = precision_score(y_test, y_pred)\n",
        "rec = recall_score(y_test, y_pred)\n",
        "f1 = f1_score(y_test, y_pred)\n",
        "\n",
        "\n",
        "print(f'Accuracy: {acc:.4f} Precision: {prec:.4f} Recall: {rec:.4f} F1: {f1:.4f}')"
      ],
      "metadata": {
        "colab": {
          "base_uri": "https://localhost:8080/"
        },
        "id": "5TEsWspQ7zhe",
        "outputId": "1d77a535-89fb-477b-cc7b-5b8affd330ce"
      },
      "execution_count": 16,
      "outputs": [
        {
          "output_type": "stream",
          "name": "stdout",
          "text": [
            "\n",
            "Test results (loss, accuracy, precision, recall): [0.10774634778499603, 0.9473684430122375, 0.9852941036224365, 0.9305555820465088]\n",
            "\u001b[1m4/4\u001b[0m \u001b[32m━━━━━━━━━━━━━━━━━━━━\u001b[0m\u001b[37m\u001b[0m \u001b[1m0s\u001b[0m 23ms/step\n",
            "\n",
            "Confusion matrix:\n",
            " [[41  1]\n",
            " [ 5 67]]\n",
            "\n",
            "Classification report:\n",
            "               precision    recall  f1-score   support\n",
            "\n",
            "           0     0.8913    0.9762    0.9318        42\n",
            "           1     0.9853    0.9306    0.9571        72\n",
            "\n",
            "    accuracy                         0.9474       114\n",
            "   macro avg     0.9383    0.9534    0.9445       114\n",
            "weighted avg     0.9507    0.9474    0.9478       114\n",
            "\n",
            "Accuracy: 0.9474 Precision: 0.9853 Recall: 0.9306 F1: 0.9571\n"
          ]
        }
      ]
    },
    {
      "cell_type": "code",
      "source": [
        "# 9) Save model\n",
        "model.save(\"model.keras\")"
      ],
      "metadata": {
        "id": "wmWyLye977WH"
      },
      "execution_count": 17,
      "outputs": []
    },
    {
      "cell_type": "code",
      "source": [],
      "metadata": {
        "id": "aNtrLBiz9aNH"
      },
      "execution_count": null,
      "outputs": []
    }
  ]
}