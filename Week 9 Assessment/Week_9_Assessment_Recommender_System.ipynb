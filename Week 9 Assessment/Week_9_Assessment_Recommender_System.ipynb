{
  "nbformat": 4,
  "nbformat_minor": 0,
  "metadata": {
    "colab": {
      "provenance": [],
      "authorship_tag": "ABX9TyP9EbhnZtGhfmQ0FZYdFkRY",
      "include_colab_link": true
    },
    "kernelspec": {
      "name": "python3",
      "display_name": "Python 3"
    },
    "language_info": {
      "name": "python"
    }
  },
  "cells": [
    {
      "cell_type": "markdown",
      "metadata": {
        "id": "view-in-github",
        "colab_type": "text"
      },
      "source": [
        "<a href=\"https://colab.research.google.com/github/Ernesto16/AI-Saturdays/blob/master/Week%209%20Assessment/Week_9_Assessment_Recommender_System.ipynb\" target=\"_parent\"><img src=\"https://colab.research.google.com/assets/colab-badge.svg\" alt=\"Open In Colab\"/></a>"
      ]
    },
    {
      "cell_type": "markdown",
      "source": [
        "## 📘 Week 9 Assessment: Recommender System\n",
        "\n",
        "- **Dataset**: [Goodbooks-10k Ratings Dataset](https://github.com/zygmuntz/goodbooks-10k)\n",
        "- **Approach Used**: Collaborative Filtering (Matrix Factorization using TruncatedSVD)\n",
        "- **Evaluation Metric**: RMSE\n",
        "- **Libraries**: pandas, numpy, scikit-learn, scipy\n",
        "\n",
        "### **Model Summary**\n",
        "- Converted the dataset into a user–item rating matrix.\n",
        "- Used `TruncatedSVD` to factorize the matrix into latent user and item features.\n",
        "- Predicted missing ratings by taking dot products of user and item factors.\n",
        "- Evaluated predictions on the test split using **Root Mean Squared Error (RMSE)**.\n",
        "\n",
        "### **Results**\n",
        "- RMSE ≈ (value from print output above)\n",
        "- Generated top-10 book recommendations for a sample user.\n",
        "\n",
        "### **Submission Details**\n",
        "- **Approach implemented:** Collaborative Filtering  \n",
        "- **Evaluation metric:** RMSE  \n",
        "- **Dataset link:** [Goodbooks-10k Ratings](https://github.com/zygmuntz/goodbooks-10k)  \n",
        "- **Code uploaded to GitHub repository:** (https://github.com/Ernesto16/AI-Saturdays/tree/master)"
      ],
      "metadata": {
        "id": "vF3NTnAAIy0j"
      }
    },
    {
      "cell_type": "code",
      "source": [
        "# STEP 1: Install dependencies (no 'surprise' needed)\n",
        "!pip install pandas numpy scikit-learn scipy --quiet\n",
        "\n",
        "# STEP 2: Import required libraries\n",
        "import pandas as pd\n",
        "import numpy as np\n",
        "from sklearn.model_selection import train_test_split\n",
        "from sklearn.decomposition import TruncatedSVD\n",
        "from sklearn.metrics import mean_squared_error\n",
        "from math import sqrt\n",
        "from scipy.sparse import csr_matrix"
      ],
      "metadata": {
        "id": "nuDf9JwZFGd-"
      },
      "execution_count": 3,
      "outputs": []
    },
    {
      "cell_type": "code",
      "source": [
        "# Using the Goodbooks-10k dataset (ratings.csv) directly from GitHub (no download needed)\n",
        "url = \"https://raw.githubusercontent.com/zygmuntz/goodbooks-10k/master/ratings.csv\"\n",
        "df = pd.read_csv(url)\n",
        "df.head()"
      ],
      "metadata": {
        "colab": {
          "base_uri": "https://localhost:8080/",
          "height": 206
        },
        "id": "Z4rl4GvsHrzq",
        "outputId": "c6230d00-5a36-431b-89fe-b285e4e2fe21"
      },
      "execution_count": 4,
      "outputs": [
        {
          "output_type": "execute_result",
          "data": {
            "text/plain": [
              "   user_id  book_id  rating\n",
              "0        1      258       5\n",
              "1        2     4081       4\n",
              "2        2      260       5\n",
              "3        2     9296       5\n",
              "4        2     2318       3"
            ],
            "text/html": [
              "\n",
              "  <div id=\"df-d545ee7b-d0f4-4d9c-8a19-caf4f108cd75\" class=\"colab-df-container\">\n",
              "    <div>\n",
              "<style scoped>\n",
              "    .dataframe tbody tr th:only-of-type {\n",
              "        vertical-align: middle;\n",
              "    }\n",
              "\n",
              "    .dataframe tbody tr th {\n",
              "        vertical-align: top;\n",
              "    }\n",
              "\n",
              "    .dataframe thead th {\n",
              "        text-align: right;\n",
              "    }\n",
              "</style>\n",
              "<table border=\"1\" class=\"dataframe\">\n",
              "  <thead>\n",
              "    <tr style=\"text-align: right;\">\n",
              "      <th></th>\n",
              "      <th>user_id</th>\n",
              "      <th>book_id</th>\n",
              "      <th>rating</th>\n",
              "    </tr>\n",
              "  </thead>\n",
              "  <tbody>\n",
              "    <tr>\n",
              "      <th>0</th>\n",
              "      <td>1</td>\n",
              "      <td>258</td>\n",
              "      <td>5</td>\n",
              "    </tr>\n",
              "    <tr>\n",
              "      <th>1</th>\n",
              "      <td>2</td>\n",
              "      <td>4081</td>\n",
              "      <td>4</td>\n",
              "    </tr>\n",
              "    <tr>\n",
              "      <th>2</th>\n",
              "      <td>2</td>\n",
              "      <td>260</td>\n",
              "      <td>5</td>\n",
              "    </tr>\n",
              "    <tr>\n",
              "      <th>3</th>\n",
              "      <td>2</td>\n",
              "      <td>9296</td>\n",
              "      <td>5</td>\n",
              "    </tr>\n",
              "    <tr>\n",
              "      <th>4</th>\n",
              "      <td>2</td>\n",
              "      <td>2318</td>\n",
              "      <td>3</td>\n",
              "    </tr>\n",
              "  </tbody>\n",
              "</table>\n",
              "</div>\n",
              "    <div class=\"colab-df-buttons\">\n",
              "\n",
              "  <div class=\"colab-df-container\">\n",
              "    <button class=\"colab-df-convert\" onclick=\"convertToInteractive('df-d545ee7b-d0f4-4d9c-8a19-caf4f108cd75')\"\n",
              "            title=\"Convert this dataframe to an interactive table.\"\n",
              "            style=\"display:none;\">\n",
              "\n",
              "  <svg xmlns=\"http://www.w3.org/2000/svg\" height=\"24px\" viewBox=\"0 -960 960 960\">\n",
              "    <path d=\"M120-120v-720h720v720H120Zm60-500h600v-160H180v160Zm220 220h160v-160H400v160Zm0 220h160v-160H400v160ZM180-400h160v-160H180v160Zm440 0h160v-160H620v160ZM180-180h160v-160H180v160Zm440 0h160v-160H620v160Z\"/>\n",
              "  </svg>\n",
              "    </button>\n",
              "\n",
              "  <style>\n",
              "    .colab-df-container {\n",
              "      display:flex;\n",
              "      gap: 12px;\n",
              "    }\n",
              "\n",
              "    .colab-df-convert {\n",
              "      background-color: #E8F0FE;\n",
              "      border: none;\n",
              "      border-radius: 50%;\n",
              "      cursor: pointer;\n",
              "      display: none;\n",
              "      fill: #1967D2;\n",
              "      height: 32px;\n",
              "      padding: 0 0 0 0;\n",
              "      width: 32px;\n",
              "    }\n",
              "\n",
              "    .colab-df-convert:hover {\n",
              "      background-color: #E2EBFA;\n",
              "      box-shadow: 0px 1px 2px rgba(60, 64, 67, 0.3), 0px 1px 3px 1px rgba(60, 64, 67, 0.15);\n",
              "      fill: #174EA6;\n",
              "    }\n",
              "\n",
              "    .colab-df-buttons div {\n",
              "      margin-bottom: 4px;\n",
              "    }\n",
              "\n",
              "    [theme=dark] .colab-df-convert {\n",
              "      background-color: #3B4455;\n",
              "      fill: #D2E3FC;\n",
              "    }\n",
              "\n",
              "    [theme=dark] .colab-df-convert:hover {\n",
              "      background-color: #434B5C;\n",
              "      box-shadow: 0px 1px 3px 1px rgba(0, 0, 0, 0.15);\n",
              "      filter: drop-shadow(0px 1px 2px rgba(0, 0, 0, 0.3));\n",
              "      fill: #FFFFFF;\n",
              "    }\n",
              "  </style>\n",
              "\n",
              "    <script>\n",
              "      const buttonEl =\n",
              "        document.querySelector('#df-d545ee7b-d0f4-4d9c-8a19-caf4f108cd75 button.colab-df-convert');\n",
              "      buttonEl.style.display =\n",
              "        google.colab.kernel.accessAllowed ? 'block' : 'none';\n",
              "\n",
              "      async function convertToInteractive(key) {\n",
              "        const element = document.querySelector('#df-d545ee7b-d0f4-4d9c-8a19-caf4f108cd75');\n",
              "        const dataTable =\n",
              "          await google.colab.kernel.invokeFunction('convertToInteractive',\n",
              "                                                    [key], {});\n",
              "        if (!dataTable) return;\n",
              "\n",
              "        const docLinkHtml = 'Like what you see? Visit the ' +\n",
              "          '<a target=\"_blank\" href=https://colab.research.google.com/notebooks/data_table.ipynb>data table notebook</a>'\n",
              "          + ' to learn more about interactive tables.';\n",
              "        element.innerHTML = '';\n",
              "        dataTable['output_type'] = 'display_data';\n",
              "        await google.colab.output.renderOutput(dataTable, element);\n",
              "        const docLink = document.createElement('div');\n",
              "        docLink.innerHTML = docLinkHtml;\n",
              "        element.appendChild(docLink);\n",
              "      }\n",
              "    </script>\n",
              "  </div>\n",
              "\n",
              "\n",
              "    <div id=\"df-2aa75309-fa8f-4f26-b51f-33404c367ac9\">\n",
              "      <button class=\"colab-df-quickchart\" onclick=\"quickchart('df-2aa75309-fa8f-4f26-b51f-33404c367ac9')\"\n",
              "                title=\"Suggest charts\"\n",
              "                style=\"display:none;\">\n",
              "\n",
              "<svg xmlns=\"http://www.w3.org/2000/svg\" height=\"24px\"viewBox=\"0 0 24 24\"\n",
              "     width=\"24px\">\n",
              "    <g>\n",
              "        <path d=\"M19 3H5c-1.1 0-2 .9-2 2v14c0 1.1.9 2 2 2h14c1.1 0 2-.9 2-2V5c0-1.1-.9-2-2-2zM9 17H7v-7h2v7zm4 0h-2V7h2v10zm4 0h-2v-4h2v4z\"/>\n",
              "    </g>\n",
              "</svg>\n",
              "      </button>\n",
              "\n",
              "<style>\n",
              "  .colab-df-quickchart {\n",
              "      --bg-color: #E8F0FE;\n",
              "      --fill-color: #1967D2;\n",
              "      --hover-bg-color: #E2EBFA;\n",
              "      --hover-fill-color: #174EA6;\n",
              "      --disabled-fill-color: #AAA;\n",
              "      --disabled-bg-color: #DDD;\n",
              "  }\n",
              "\n",
              "  [theme=dark] .colab-df-quickchart {\n",
              "      --bg-color: #3B4455;\n",
              "      --fill-color: #D2E3FC;\n",
              "      --hover-bg-color: #434B5C;\n",
              "      --hover-fill-color: #FFFFFF;\n",
              "      --disabled-bg-color: #3B4455;\n",
              "      --disabled-fill-color: #666;\n",
              "  }\n",
              "\n",
              "  .colab-df-quickchart {\n",
              "    background-color: var(--bg-color);\n",
              "    border: none;\n",
              "    border-radius: 50%;\n",
              "    cursor: pointer;\n",
              "    display: none;\n",
              "    fill: var(--fill-color);\n",
              "    height: 32px;\n",
              "    padding: 0;\n",
              "    width: 32px;\n",
              "  }\n",
              "\n",
              "  .colab-df-quickchart:hover {\n",
              "    background-color: var(--hover-bg-color);\n",
              "    box-shadow: 0 1px 2px rgba(60, 64, 67, 0.3), 0 1px 3px 1px rgba(60, 64, 67, 0.15);\n",
              "    fill: var(--button-hover-fill-color);\n",
              "  }\n",
              "\n",
              "  .colab-df-quickchart-complete:disabled,\n",
              "  .colab-df-quickchart-complete:disabled:hover {\n",
              "    background-color: var(--disabled-bg-color);\n",
              "    fill: var(--disabled-fill-color);\n",
              "    box-shadow: none;\n",
              "  }\n",
              "\n",
              "  .colab-df-spinner {\n",
              "    border: 2px solid var(--fill-color);\n",
              "    border-color: transparent;\n",
              "    border-bottom-color: var(--fill-color);\n",
              "    animation:\n",
              "      spin 1s steps(1) infinite;\n",
              "  }\n",
              "\n",
              "  @keyframes spin {\n",
              "    0% {\n",
              "      border-color: transparent;\n",
              "      border-bottom-color: var(--fill-color);\n",
              "      border-left-color: var(--fill-color);\n",
              "    }\n",
              "    20% {\n",
              "      border-color: transparent;\n",
              "      border-left-color: var(--fill-color);\n",
              "      border-top-color: var(--fill-color);\n",
              "    }\n",
              "    30% {\n",
              "      border-color: transparent;\n",
              "      border-left-color: var(--fill-color);\n",
              "      border-top-color: var(--fill-color);\n",
              "      border-right-color: var(--fill-color);\n",
              "    }\n",
              "    40% {\n",
              "      border-color: transparent;\n",
              "      border-right-color: var(--fill-color);\n",
              "      border-top-color: var(--fill-color);\n",
              "    }\n",
              "    60% {\n",
              "      border-color: transparent;\n",
              "      border-right-color: var(--fill-color);\n",
              "    }\n",
              "    80% {\n",
              "      border-color: transparent;\n",
              "      border-right-color: var(--fill-color);\n",
              "      border-bottom-color: var(--fill-color);\n",
              "    }\n",
              "    90% {\n",
              "      border-color: transparent;\n",
              "      border-bottom-color: var(--fill-color);\n",
              "    }\n",
              "  }\n",
              "</style>\n",
              "\n",
              "      <script>\n",
              "        async function quickchart(key) {\n",
              "          const quickchartButtonEl =\n",
              "            document.querySelector('#' + key + ' button');\n",
              "          quickchartButtonEl.disabled = true;  // To prevent multiple clicks.\n",
              "          quickchartButtonEl.classList.add('colab-df-spinner');\n",
              "          try {\n",
              "            const charts = await google.colab.kernel.invokeFunction(\n",
              "                'suggestCharts', [key], {});\n",
              "          } catch (error) {\n",
              "            console.error('Error during call to suggestCharts:', error);\n",
              "          }\n",
              "          quickchartButtonEl.classList.remove('colab-df-spinner');\n",
              "          quickchartButtonEl.classList.add('colab-df-quickchart-complete');\n",
              "        }\n",
              "        (() => {\n",
              "          let quickchartButtonEl =\n",
              "            document.querySelector('#df-2aa75309-fa8f-4f26-b51f-33404c367ac9 button');\n",
              "          quickchartButtonEl.style.display =\n",
              "            google.colab.kernel.accessAllowed ? 'block' : 'none';\n",
              "        })();\n",
              "      </script>\n",
              "    </div>\n",
              "\n",
              "    </div>\n",
              "  </div>\n"
            ],
            "application/vnd.google.colaboratory.intrinsic+json": {
              "type": "dataframe",
              "variable_name": "df"
            }
          },
          "metadata": {},
          "execution_count": 4
        }
      ]
    },
    {
      "cell_type": "code",
      "source": [
        "# Quick summary of dataset\n",
        "print(\"Shape of dataset:\", df.shape)\n",
        "print(\"Columns:\", df.columns.tolist())\n",
        "print(df.describe())\n",
        "print(df.isnull().sum())"
      ],
      "metadata": {
        "colab": {
          "base_uri": "https://localhost:8080/"
        },
        "id": "SkOwMEh3HyfC",
        "outputId": "04bd30d4-c1c7-4a98-fb3f-dba7e50b7377"
      },
      "execution_count": 5,
      "outputs": [
        {
          "output_type": "stream",
          "name": "stdout",
          "text": [
            "Shape of dataset: (5976479, 3)\n",
            "Columns: ['user_id', 'book_id', 'rating']\n",
            "            user_id       book_id        rating\n",
            "count  5.976479e+06  5.976479e+06  5.976479e+06\n",
            "mean   2.622446e+04  2.006477e+03  3.919866e+00\n",
            "std    1.541323e+04  2.468499e+03  9.910868e-01\n",
            "min    1.000000e+00  1.000000e+00  1.000000e+00\n",
            "25%    1.281300e+04  1.980000e+02  3.000000e+00\n",
            "50%    2.593800e+04  8.850000e+02  4.000000e+00\n",
            "75%    3.950900e+04  2.973000e+03  5.000000e+00\n",
            "max    5.342400e+04  1.000000e+04  5.000000e+00\n",
            "user_id    0\n",
            "book_id    0\n",
            "rating     0\n",
            "dtype: int64\n"
          ]
        }
      ]
    },
    {
      "cell_type": "code",
      "source": [
        "max_users = 5000\n",
        "max_items = 5000\n",
        "top_users = df['user_id'].value_counts().nlargest(max_users).index\n",
        "top_items = df['book_id'].value_counts().nlargest(max_items).index\n",
        "\n",
        "df_small = df[df['user_id'].isin(top_users) & df['book_id'].isin(top_items)].copy()\n",
        "print(\"Reduced dataset size:\", df_small.shape)\n",
        "\n",
        "# Create mappings for users and items\n",
        "user_ids = df_small['user_id'].unique()\n",
        "item_ids = df_small['book_id'].unique()\n",
        "user_map = {u:i for i,u in enumerate(user_ids)}\n",
        "item_map = {i:j for j,i in enumerate(item_ids)}\n",
        "\n",
        "# Build sparse ratings matrix\n",
        "rows = df_small['user_id'].map(user_map)\n",
        "cols = df_small['book_id'].map(item_map)\n",
        "vals = df_small['rating'].astype(float)\n",
        "R = csr_matrix((vals, (rows, cols)), shape=(len(user_ids), len(item_ids)))"
      ],
      "metadata": {
        "colab": {
          "base_uri": "https://localhost:8080/"
        },
        "id": "DcgGdnzZH5bw",
        "outputId": "f5139bb1-ef2c-4dfc-bc70-8f1a17110f0a"
      },
      "execution_count": 6,
      "outputs": [
        {
          "output_type": "stream",
          "name": "stdout",
          "text": [
            "Reduced dataset size: (735210, 3)\n"
          ]
        }
      ]
    },
    {
      "cell_type": "code",
      "source": [
        "# Split into train and test interactions\n",
        "train_df, test_df = train_test_split(df_small, test_size=0.2, random_state=42)\n",
        "\n",
        "train_rows = train_df['user_id'].map(user_map)\n",
        "train_cols = train_df['book_id'].map(item_map)\n",
        "train_vals = train_df['rating'].astype(float)\n",
        "R_train = csr_matrix((train_vals, (train_rows, train_cols)), shape=(len(user_ids), len(item_ids)))"
      ],
      "metadata": {
        "id": "woAghgdfID5N"
      },
      "execution_count": 7,
      "outputs": []
    },
    {
      "cell_type": "code",
      "source": [
        "# Train a collaborative filtering model using matrix factorization\n",
        "n_components = 50\n",
        "svd = TruncatedSVD(n_components=n_components, random_state=42)\n",
        "user_factors = svd.fit_transform(R_train)\n",
        "item_factors = svd.components_.T"
      ],
      "metadata": {
        "id": "mEb88k1tIIwB"
      },
      "execution_count": 8,
      "outputs": []
    },
    {
      "cell_type": "code",
      "source": [
        "# Predict function\n",
        "def predict_single(user_raw_id, item_raw_id):\n",
        "    if (user_raw_id not in user_map) or (item_raw_id not in item_map):\n",
        "        return np.nan\n",
        "    u = user_map[user_raw_id]; i = item_map[item_raw_id]\n",
        "    return float(user_factors[u].dot(item_factors[i]))\n",
        "\n",
        "# Evaluate RMSE on test set\n",
        "y_true = []\n",
        "y_pred = []\n",
        "\n",
        "for _, row in test_df.iterrows():\n",
        "    true_r = row['rating']\n",
        "    pred_r = predict_single(row['user_id'], row['book_id'])\n",
        "    if not np.isnan(pred_r):\n",
        "        y_true.append(true_r)\n",
        "        y_pred.append(pred_r)\n",
        "\n",
        "y_pred = np.clip(y_pred, 1, 5)\n",
        "rmse = sqrt(mean_squared_error(y_true, y_pred))\n",
        "print(f\"✅ RMSE on test set: {rmse:.4f}\")"
      ],
      "metadata": {
        "colab": {
          "base_uri": "https://localhost:8080/"
        },
        "id": "stR-bGNwIMYm",
        "outputId": "381fd052-6387-4234-df4e-749735d42719"
      },
      "execution_count": 9,
      "outputs": [
        {
          "output_type": "stream",
          "name": "stdout",
          "text": [
            "✅ RMSE on test set: 2.7938\n"
          ]
        }
      ]
    },
    {
      "cell_type": "code",
      "source": [
        "# Recommend top N items for a sample user\n",
        "def recommend_top_n(user_raw_id, N=10):\n",
        "    if user_raw_id not in user_map:\n",
        "        return []\n",
        "    u = user_map[user_raw_id]\n",
        "    scores = item_factors.dot(user_factors[u])\n",
        "    rated_items = set(df_small[df_small['user_id']==user_raw_id]['book_id'])\n",
        "    candidates = [(item_ids[i], scores[i]) for i in range(len(item_ids)) if item_ids[i] not in rated_items]\n",
        "    top = sorted(candidates, key=lambda x: x[1], reverse=True)[:N]\n",
        "    return top\n",
        "\n",
        "sample_user = df_small['user_id'].iloc[0]\n",
        "print(f\"Top 10 recommendations for user {sample_user}:\")\n",
        "print(recommend_top_n(sample_user, 10))"
      ],
      "metadata": {
        "colab": {
          "base_uri": "https://localhost:8080/"
        },
        "id": "JEJbKItRIQ3b",
        "outputId": "612c78b8-195d-428a-90c8-d83c08a5ac9e"
      },
      "execution_count": 10,
      "outputs": [
        {
          "output_type": "stream",
          "name": "stdout",
          "text": [
            "Top 10 recommendations for user 75:\n",
            "[(np.int64(101), np.float64(2.4085453901420597)), (np.int64(33), np.float64(2.281399753744734)), (np.int64(119), np.float64(2.004813321938901)), (np.int64(45), np.float64(1.9853508401828814)), (np.int64(60), np.float64(1.9333812321608446)), (np.int64(30), np.float64(1.735070444057039)), (np.int64(7), np.float64(1.5111353754849992)), (np.int64(167), np.float64(1.4403392319159622)), (np.int64(117), np.float64(1.4249269302142487)), (np.int64(111), np.float64(1.4148947244683385))]\n"
          ]
        }
      ]
    },
    {
      "cell_type": "code",
      "source": [],
      "metadata": {
        "id": "FQetp9oxIUjg"
      },
      "execution_count": null,
      "outputs": []
    }
  ]
}